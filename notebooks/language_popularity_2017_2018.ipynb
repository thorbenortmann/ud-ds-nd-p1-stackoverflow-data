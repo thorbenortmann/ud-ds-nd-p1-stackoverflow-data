{
 "cells": [
  {
   "cell_type": "markdown",
   "metadata": {
    "collapsed": true,
    "pycharm": {
     "name": "#%%\n"
    }
   },
   "source": [
    "## Language Reality Check for 2017 with data from 2018\n"
   ]
  },
  {
   "cell_type": "markdown",
   "metadata": {},
   "source": [
    "Our questions to answer are:\n",
    "1. How big was the change in language use between 2017 and 2018 actually?\n",
    "2. How big is the difference between what developers wanted to work with in 2018 and what they actually worked with?"
   ]
  },
  {
   "cell_type": "markdown",
   "metadata": {},
   "source": [
    "Since we want to compare the data from 2018 with the data from 2017. We will first load the data from 2017 and process it like in the *language_popularity_2017* notebook."
   ]
  },
  {
   "cell_type": "code",
   "execution_count": 23,
   "metadata": {},
   "outputs": [],
   "source": [
    "from pathlib import Path\n",
    "\n",
    "import pandas as pd\n",
    "\n",
    "\n",
    "DATA_DIR = Path() / '..' / 'data'\n",
    "FILE_NAME_2017 = 'survey_results_public_2017.csv'\n",
    "\n",
    "df_2017 = pd.read_csv(str(DATA_DIR / FILE_NAME_2017))"
   ]
  },
  {
   "cell_type": "code",
   "execution_count": 50,
   "metadata": {},
   "outputs": [
    {
     "data": {
      "text/plain": [
       "JavaScript    0.624573\n",
       "SQL           0.512055\n",
       "Java          0.396560\n",
       "C#            0.340642\n",
       "Python        0.319563\n",
       "Name: HaveWorkedLanguage, dtype: float64"
      ]
     },
     "execution_count": 50,
     "metadata": {},
     "output_type": "execute_result"
    }
   ],
   "source": [
    "df_q1 = df_2017[['Respondent', 'HaveWorkedLanguage']]\n",
    "df_q1 = df_q1[df_q1['HaveWorkedLanguage'].notna()]\n",
    "\n",
    "# Normalize the HaveWorkedLanguage column\n",
    "df_q1 = df_q1.assign(HaveWorkedLanguage=df_q1['HaveWorkedLanguage'].str.split(';')).explode('HaveWorkedLanguage')\n",
    "df_q1['HaveWorkedLanguage'] = df_q1['HaveWorkedLanguage'].apply(lambda x: str(x).strip())\n",
    "\n",
    "counts_per_lang = df_q1['HaveWorkedLanguage'].value_counts()\n",
    "percentage_per_lang = counts_per_lang / df_q1['Respondent'].nunique()\n",
    "percentage_per_lang.head()"
   ]
  },
  {
   "cell_type": "code",
   "execution_count": 51,
   "metadata": {},
   "outputs": [
    {
     "data": {
      "text/plain": [
       "JavaScript    0.483462\n",
       "Python        0.372213\n",
       "SQL           0.332149\n",
       "C#            0.301649\n",
       "Java          0.295757\n",
       "Name: WantWorkLanguage, dtype: float64"
      ]
     },
     "execution_count": 51,
     "metadata": {},
     "output_type": "execute_result"
    }
   ],
   "source": [
    "df_q2 = df_2017[['Respondent', 'WantWorkLanguage']]\n",
    "df_q2 = df_q2[df_q2['WantWorkLanguage'].notna()]\n",
    "\n",
    "# Normalize the HaveWorkedLanguage column\n",
    "df_q2 = df_q2.assign(WantWorkLanguage=df_q2['WantWorkLanguage'].str.split(';')).explode('WantWorkLanguage')\n",
    "df_q2['WantWorkLanguage'] = df_q2['WantWorkLanguage'].apply(lambda x: str(x).strip())\n",
    "\n",
    "counts_want_per_lang = df_q2['WantWorkLanguage'].value_counts()\n",
    "percentage_want_per_lang = counts_want_per_lang / df_q2['Respondent'].nunique()\n",
    "percentage_want_per_lang.head()"
   ]
  },
  {
   "cell_type": "markdown",
   "metadata": {},
   "source": [
    "### Question 1"
   ]
  },
  {
   "cell_type": "markdown",
   "metadata": {},
   "source": [
    "The data processing for the 2018 data is almost the same. The *HaveWorkedLanguage* column was just renamed to *LanguageWorkedWith*"
   ]
  },
  {
   "cell_type": "code",
   "execution_count": 17,
   "metadata": {},
   "outputs": [
    {
     "data": {
      "text/plain": [
       "JavaScript              0.698113\n",
       "HTML                    0.684607\n",
       "CSS                     0.650790\n",
       "SQL                     0.570250\n",
       "Java                    0.453456\n",
       "Bash/Shell              0.397937\n",
       "Python                  0.387558\n",
       "C#                      0.344091\n",
       "PHP                     0.307287\n",
       "C++                     0.253683\n",
       "C                       0.230321\n",
       "TypeScript              0.173947\n",
       "Ruby                    0.100991\n",
       "Swift                   0.080553\n",
       "Assembly                0.073531\n",
       "Go                      0.070621\n",
       "Objective-C             0.070340\n",
       "VB.NET                  0.067072\n",
       "R                       0.061442\n",
       "Matlab                  0.058263\n",
       "VBA                     0.048638\n",
       "Kotlin                  0.044783\n",
       "Scala                   0.043659\n",
       "Groovy                  0.043059\n",
       "Perl                    0.041872\n",
       "Visual Basic 6          0.039408\n",
       "Lua                     0.034889\n",
       "CoffeeScript            0.033230\n",
       "Delphi/Object Pascal    0.025851\n",
       "Haskell                 0.025034\n",
       "Rust                    0.023706\n",
       "F#                      0.014234\n",
       "Clojure                 0.013174\n",
       "Erlang                  0.011311\n",
       "Cobol                   0.007532\n",
       "Ocaml                   0.006000\n",
       "Julia                   0.005489\n",
       "Hack                    0.003243\n",
       "Name: LanguageWorkedWith, dtype: float64"
      ]
     },
     "execution_count": 17,
     "metadata": {},
     "output_type": "execute_result"
    }
   ],
   "source": [
    "from pathlib import Path\n",
    "\n",
    "import pandas as pd\n",
    "\n",
    "\n",
    "DATA_DIR = Path() / '..' / 'data'\n",
    "FILE_NAME_2018 = 'survey_results_public_2018.csv'\n",
    "\n",
    "df_2018 = pd.read_csv(str(DATA_DIR / FILE_NAME_2018), dtype=object)\n",
    "\n",
    "df_q1_18 = df_2018[['Respondent', 'LanguageWorkedWith']]\n",
    "df_q1_18 = df_q1_18[df_q1_18['LanguageWorkedWith'].notna()]\n",
    "\n",
    "# Normalize the HaveWorkedLanguage column\n",
    "df_q1_18 = df_q1_18.assign(LanguageWorkedWith=df_q1_18['LanguageWorkedWith'].str.split(';')).explode('LanguageWorkedWith')\n",
    "df_q1_18['LanguageWorkedWith'] = df_q1_18['LanguageWorkedWith'].apply(lambda x: str(x).strip())\n",
    "\n",
    "counts_per_lang = df_q1_18['LanguageWorkedWith'].value_counts()\n",
    "percentage_per_lang_18 = counts_per_lang / df_q1_18['Respondent'].nunique()\n",
    "percentage_per_lang_18"
   ]
  },
  {
   "cell_type": "markdown",
   "metadata": {},
   "source": [
    "Now we can compute the differences per language."
   ]
  },
  {
   "cell_type": "code",
   "execution_count": 49,
   "metadata": {
    "scrolled": false
   },
   "outputs": [
    {
     "data": {
      "text/plain": [
       "<matplotlib.axes._subplots.AxesSubplot at 0x205b3f34948>"
      ]
     },
     "execution_count": 49,
     "metadata": {},
     "output_type": "execute_result"
    },
    {
     "data": {
      "image/png": "[encoded data removed]",
      "text/plain": [
       "<Figure size 1152x648 with 1 Axes>"
      ]
     },
     "metadata": {
      "needs_background": "light"
     },
     "output_type": "display_data"
    }
   ],
   "source": [
    "diff_17_18 = (percentage_per_lang_18 - percentage_per_lang[percentage_per_lang >= 0.04]).dropna().sort_values()\n",
    "diff_17_18.plot.barh(\n",
    "    x='Language',\n",
    "    color =(diff_17_18 > 0).map({True: 'g',\n",
    "                                 False: 'r'}),\n",
    "    title='Difference: Have worked with 2017/2018 per Language',\n",
    "    figsize=(16, 9))#.get_figure().savefig(\"diff_have_want.png\", dpi=600)\n"
   ]
  },
  {
   "cell_type": "markdown",
   "metadata": {},
   "source": [
    "Suprisingly we can see that almost all languages have grown in usage. A factor for that is probably that the respondents in 2018 were other (and more) persons than in 2017. Therefore, the overall average respondent's profile also changed."
   ]
  },
  {
   "cell_type": "markdown",
   "metadata": {},
   "source": [
    "### Question 2"
   ]
  },
  {
   "cell_type": "markdown",
   "metadata": {},
   "source": [
    "To answer question 2 we compare the *WantWorkLanguage* data from 2017 with the *LanguageWorkedWith* from 2018."
   ]
  },
  {
   "cell_type": "code",
   "execution_count": 45,
   "metadata": {
    "scrolled": false
   },
   "outputs": [
    {
     "data": {
      "image/png": "[encoded data removed]",
      "text/plain": [
       "<Figure size 1152x648 with 1 Axes>"
      ]
     },
     "metadata": {
      "needs_background": "light"
     },
     "output_type": "display_data"
    }
   ],
   "source": [
    "diff_17_want_18_have = (percentage_per_lang_18 - percentage_want_per_lang[percentage_want_per_lang >= 0.05]).dropna()\n",
    "diff_17_want_18_have.plot.barh(\n",
    "    x='Language',\n",
    "    color =(diff_17_want_18_have > 0).map({True: 'g',\n",
    "                                           False: 'r'}),\n",
    "    title='Difference: Have worked with 2018 - Want to work with 2017 per Language',\n",
    "    figsize=(16, 9)).get_figure().savefig(\"diff_want_17_have_18.png\", dpi=600)\n"
   ]
  }
 ],
 "metadata": {
  "kernelspec": {
   "display_name": "Python 3",
   "language": "python",
   "name": "python3"
  },
  "language_info": {
   "codemirror_mode": {
    "name": "ipython",
    "version": 3
   },
   "file_extension": ".py",
   "mimetype": "text/x-python",
   "name": "python",
   "nbconvert_exporter": "python",
   "pygments_lexer": "ipython3",
   "version": "3.7.6"
  },
  "pycharm": {
   "stem_cell": {
    "cell_type": "raw",
    "metadata": {
     "collapsed": false
    },
    "source": []
   }
  }
 },
 "nbformat": 4,
 "nbformat_minor": 1
}
